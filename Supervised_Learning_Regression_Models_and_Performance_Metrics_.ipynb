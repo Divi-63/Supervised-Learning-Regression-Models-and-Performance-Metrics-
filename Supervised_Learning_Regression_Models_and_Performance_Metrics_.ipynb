{
  "nbformat": 4,
  "nbformat_minor": 0,
  "metadata": {
    "colab": {
      "provenance": []
    },
    "kernelspec": {
      "name": "python3",
      "display_name": "Python 3"
    },
    "language_info": {
      "name": "python"
    }
  },
  "cells": [
    {
      "cell_type": "markdown",
      "metadata": {
        "id": "975c9e02"
      },
      "source": [
        "- Question 1: What is Simple Linear Regression (SLR)? Explain its purpose.\n",
        "\n",
        "  Simple Linear Regression (SLR) is a statistical method used to model the relationship between a dependent variable y and a single independent variable x. It assumes a linear relationship between the two variables. The purpose of SLR is to predict the value of y based on the value of x. It is a foundational technique in predictive analytics, helping to understand and quantify the relationship between variables.\n",
        "- Question 2: What are the key assumptions of Simple Linear Regression?\n",
        "\n",
        "  The key assumptions of Simple Linear Regression are:\n",
        "\n",
        "  Linearity: There is a linear relationship between the independent variable x and the dependent variable y.\n",
        "\n",
        "  Independence of errors: The residuals (errors) are independent of each other.\n",
        "\n",
        "  Homoscedasticity: The variance of the errors is constant across all levels of the independent variable x.\n",
        "\n",
        "  Normality of errors: The residuals are normally distributed for any fixed value of x.\n",
        "\n",
        "  No multicollinearity: In the case of multiple predictors, there should be no high correlation between predictors (this does not apply to Simple Linear Regression as it has only one predictor).\n",
        "\n",
        "- Question 3: Write the mathematical equation for a simple linear regression model and explain each term.\n",
        "\n",
        "    The mathematical equation for a simple linear regression model is:\n",
        "\n",
        "    $y = \\beta_0 + \\beta_1x + \\epsilon$\n",
        "\n",
        "    Where:\n",
        "\n",
        "  *   $y$ is the dependent variable (the variable you are trying to predict).\n",
        "  *   $x$ is the independent variable (the variable used to predict y).\n",
        "  *   $\\beta_0$ is the intercept, representing the predicted value of y when  x is 0.\n",
        "  *   $\\beta_1$ is the slope, representing the change in y for a one-unit change in x.\n",
        "  *   $\\epsilon$ is the error term, representing the random variability or noise not explained by the linear relationship.\n",
        "\n",
        "- Question 4: Provide a real-world example where simple linear regression can be applied.\n",
        "\n",
        "  A real-world example of applying Simple Linear Regression is predicting house prices based on the size of the house. Here:\n",
        "\n",
        "  x could be the size of the house (in square feet).\n",
        "\n",
        "  y would be the price of the house.\n",
        "\n",
        "  The relationship between size and price can be modeled using SLR to predict the price of a house based on its size.\n",
        "\n",
        "- Question 5: What is the method of least squares in linear regression?\n",
        "\n",
        "  The method of least squares is a technique used to estimate the parameters (slope and intercept) of the linear regression model. It minimizes the sum of the squared differences (errors) between the actual values y and the predicted values ^y . This method ensures that the line of best fit is as close as possible to the data points.\n",
        "\n",
        " - Question 6: What is Logistic Regression? How does it differ from Linear Regression?\n",
        "\n",
        "   Logistic Regression is a type of regression used when the dependent variabley is categorical, typically binary (e.g., yes/no, 0/1). It predicts the probability of an event occurring and uses the logistic function (sigmoid) to map the linear combination of inputs to a value between 0 and 1.\n",
        "\n",
        "   Differences from Linear Regression:\n",
        "\n",
        "   Output: Linear regression predicts a continuous value, while logistic regression predicts probabilities (usually between 0 and 1).\n",
        "\n",
        "   Function: Linear regression uses a linear equation, while logistic regression uses the logistic function (sigmoid) to convert the output into a probability.\n",
        "\n",
        "   Use Case: Linear regression is used for regression tasks (continuous output), whereas logistic regression is used for classification tasks (categorical output).\n",
        "\n",
        "- Question 7: Name and briefly describe three common evaluation metrics for regression models.\n",
        "\n",
        "  Mean Absolute Error (MAE): Measures the average magnitude of the errors in a set of predictions, without considering their direction. It’s the average of the absolute differences between actual and predicted values.\n",
        "\n",
        "  Mean Squared Error (MSE): Measures the average of the squared differences between actual and predicted values. It penalizes larger errors more than MAE.\n",
        "\n",
        "  R-squared (R²): Represents the proportion of the variance in the dependent variable that is predictable from the independent variable(s). It is between 0 and 1, where 1 means perfect prediction.\n",
        "\n",
        "- Question 8: What is the purpose of the R-squared metric in regression analysis?\n",
        "\n",
        "  The R-squared metric represents how well the independent variable(s) explain the variance in the dependent variable. It tells us the proportion of the total variance in the dependent variable that is explained by the regression model. Higher values indicate that the model explains a greater portion of the variance.\n",
        "\n",
        "  R² = 1 means that the regression model perfectly explains the variance in the target variable.\n",
        "\n",
        "  R² = 0 means that the model does not explain any of the variance."
      ]
    },
    {
      "cell_type": "code",
      "source": [
        "#Question 9: Write Python code to fit a simple linear regression model using scikit-learn and print the slope and intercept.\n",
        "#Here is an example Python code:\n",
        "\n",
        "import numpy as np\n",
        "from sklearn.linear_model import LinearRegression\n",
        "\n",
        "# Example data (x: feature, y: target)\n",
        "x = np.array([1, 2, 3, 4, 5]).reshape(-1, 1)  # Independent variable (reshape for 2D)\n",
        "y = np.array([1, 2, 3, 4, 5])  # Dependent variable\n",
        "\n",
        "# Initialize the model\n",
        "model = LinearRegression()\n",
        "\n",
        "# Fit the model to the data\n",
        "model.fit(x, y)\n",
        "\n",
        "# Get the slope (coefficient) and intercept\n",
        "slope = model.coef_[0]\n",
        "intercept = model.intercept_\n",
        "\n",
        "# Print the results\n",
        "print(\"Slope:\", slope)\n",
        "print(\"Intercept:\", intercept)"
      ],
      "metadata": {
        "colab": {
          "base_uri": "https://localhost:8080/"
        },
        "id": "znUxitDLHe61",
        "outputId": "3463fd18-b8b3-434d-c77d-2395c2e7d43e"
      },
      "execution_count": 3,
      "outputs": [
        {
          "output_type": "stream",
          "name": "stdout",
          "text": [
            "Slope: 1.0\n",
            "Intercept: 0.0\n"
          ]
        }
      ]
    },
    {
      "cell_type": "markdown",
      "metadata": {
        "id": "823cc941"
      },
      "source": [
        "- Question 10: How do you interpret the coefficients in a simple linear regression model?\n",
        "\n",
        "In a simple linear regression model, the mathematical equation is typically written as:\n",
        "\n",
        "$y = \\beta_0 + \\beta_1x + \\epsilon$\n",
        "\n",
        "Where:\n",
        "\n",
        "*\t$y$ is the dependent variable.\n",
        "*\t$x$ is the independent variable.\n",
        "*\t$\\beta_0$ is the intercept.\n",
        "*\t$\\beta_1$ is the slope (or coefficient) for the independent variable.\n",
        "*\t$\\epsilon$ is the error term.\n",
        "\n",
        "Here's how you interpret the coefficients:\n",
        "\n",
        "*\t**Intercept ($\\beta_0$)**: This represents the predicted value of the dependent variable ($y$) when the independent variable ($x$) is equal to zero. In some cases, this interpretation might not be meaningful if $x=0$ is outside the range of your data or doesn't make practical sense.\n",
        "\n",
        "*\t**Slope ($\\beta_1$)**: This represents the change in the predicted value of the dependent variable ($y$) for a one-unit increase in the independent variable ($x$). It indicates the direction and magnitude of the linear relationship between $x$ and $y$.\n",
        "\n",
        "For example, in the code you provided, the slope is 1.0 and the intercept is 0.0. This means that for every one-unit increase in the independent variable `x`, the dependent variable `y` is predicted to increase by 1.0 unit. When `x` is 0, the predicted value of `y` is 0.0."
      ]
    }
  ]
}